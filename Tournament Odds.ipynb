{
 "cells": [
  {
   "cell_type": "code",
   "execution_count": 1,
   "id": "10d9098a",
   "metadata": {},
   "outputs": [],
   "source": [
    "import random\n",
    "import numpy as np\n",
    "import matplotlib.pyplot as plt\n",
    "from scipy.stats import normaltest, norm\n",
    "\n",
    "plt.rcParams['figure.figsize']=10,5\n",
    "random.seed(42)"
   ]
  },
  {
   "cell_type": "markdown",
   "id": "a772df74",
   "metadata": {},
   "source": [
    "### Purpose\n",
    "This guide is designed as a demonstration in just how much random chance can impact tournament results within Perfect Team. The basis for this guide are quick best of seven tournaments that last five rounds, and yield 10 packs for a win, five for a finals loss, and three for a semi-finals loss.\n",
    "\n",
    "In this first section, it's assumed a team has a 50 percent chance of winning any single game within a tournament. If the team wins four games they move onto the next round, whereas if they lose four games in a series, the tournament is over. A total of 10,000 tournaments are simulated, with the results of those simulations printed at the end of the code block with the total counts for what round the tournament ended. If a tournament ended in round \"six\" then the team won the tournament."
   ]
  },
  {
   "cell_type": "code",
   "execution_count": 2,
   "id": "773faf07",
   "metadata": {},
   "outputs": [
    {
     "data": {
      "text/plain": [
       "{1: 5033, 2: 2469, 3: 1263, 4: 602, 5: 336, 6: 297}"
      ]
     },
     "execution_count": 2,
     "metadata": {},
     "output_type": "execute_result"
    }
   ],
   "source": [
    "results = []\n",
    "games = []\n",
    "for i in range(10000):\n",
    "    w = 0\n",
    "    tw = 0\n",
    "    l = 0\n",
    "\n",
    "    tournament = []\n",
    "    for i in range(35):\n",
    "        game = random.random()\n",
    "        if game <= .5:\n",
    "            w += 1\n",
    "            tw += 1\n",
    "        else:\n",
    "            l += 1\n",
    "            \n",
    "        if w == 4:\n",
    "            tournament.append(str(w) + '-' + str(l))\n",
    "            w = 0\n",
    "            l = 0\n",
    "            if len(tournament) == 5:\n",
    "                break\n",
    "        elif l == 4:\n",
    "            tournament.append(str(w) + '-' + str(l))\n",
    "            break\n",
    "    games.append([tw, i + 1])\n",
    "    if tw == 20:\n",
    "        results.append(6)\n",
    "    else:\n",
    "        results.append(len(tournament))\n",
    "        \n",
    "unique, counts = np.unique(results, return_counts=True)\n",
    "dict(zip(unique, counts))"
   ]
  },
  {
   "cell_type": "markdown",
   "id": "c18193ca",
   "metadata": {},
   "source": [
    "With 313 tournament wins (3.13 percent), that lines up exactly with what would be expected. So no surprises so far. That's what happens with probabilities over long enough time periods. But what happens with shorter time frames and how much randomness can impact results?\n",
    "\n",
    "In this next section 20 tournaments are sampled from our 10,000 from above to represent a day. This is about what one would expect to enter in a single day if one is re-upping their slots on a regular basis and minimizing downtime. I won't be looking at individual tournament win percentages in a single day in this section, but rather the total number of packs earned, and a day's overall winning percentage."
   ]
  },
  {
   "cell_type": "code",
   "execution_count": 3,
   "id": "f70fde6d",
   "metadata": {},
   "outputs": [
    {
     "data": {
      "image/png": "[encoded data removed]",
      "text/plain": [
       "<Figure size 720x360 with 1 Axes>"
      ]
     },
     "metadata": {
      "needs_background": "light"
     },
     "output_type": "display_data"
    }
   ],
   "source": [
    "packs = []\n",
    "for i in range(10000):\n",
    "    sample = random.sample(results, 20)\n",
    "\n",
    "    unique, counts = np.unique(sample, return_counts=True)\n",
    "    day = dict(zip(unique, counts))\n",
    "    packs.append(day.get(4, 0) * 3 + day.get(5, 0) * 5 + day.get(6, 0) * 10)\n",
    "    \n",
    "plt.hist(packs, bins=15)\n",
    "plt.xlabel('Packs per day')\n",
    "plt.ylabel('Count')\n",
    "plt.show()"
   ]
  },
  {
   "cell_type": "markdown",
   "id": "c43a1b5b",
   "metadata": {},
   "source": [
    "On a typical day, a team with an expected winning percentage of 50 percent would pull in about 13 packs, but there is a wide range of pack rates they could earn. About one day a month they would be expected to pull in 30 packs or more, and one day a year they would pull in 45 packs. But there's also a very high probibility they'd earn 5 packs or less a day (about five days a month).\n",
    "\n",
    "In this next section, 20 tournaments are sampled from the 10,000 simulations, with overall win percentage for those samples calculated."
   ]
  },
  {
   "cell_type": "code",
   "execution_count": 4,
   "id": "ac2b1ffd",
   "metadata": {},
   "outputs": [
    {
     "data": {
      "image/png": "[encoded data removed]",
      "text/plain": [
       "<Figure size 720x360 with 1 Axes>"
      ]
     },
     "metadata": {
      "needs_background": "light"
     },
     "output_type": "display_data"
    }
   ],
   "source": [
    "days_perc = []\n",
    "for i in range(10000):\n",
    "    sample = random.sample(games, 20)\n",
    "    w = 0\n",
    "    g = 0\n",
    "\n",
    "    for k in sample:\n",
    "        w += k[0]\n",
    "        g += k[1]\n",
    "    days_perc.append(w / g)\n",
    "    \n",
    "plt.hist(days_perc, bins=25)\n",
    "plt.xlabel('Winning percentage per day')\n",
    "plt.ylabel('Count')\n",
    "plt.show()"
   ]
  },
  {
   "cell_type": "markdown",
   "id": "0e551098",
   "metadata": {},
   "source": [
    "There's a wide distribution of overall winning percentages that are observed, even over a 20 tournament timeline. Some days the team would achive a 55 percent win percentage, while others sub 45 percent. Remember this when making changes to a tournament team and looking at results. A single day's worth of results does not make for conclusive evidence of improvements or setbacks.\n",
    "\n",
    "The next block extends the number of days worth of tournaments (each row), with the average winning percentage of those, and then an upper and lower bound for expected winning percentage (95 percent range). "
   ]
  },
  {
   "cell_type": "code",
   "execution_count": 5,
   "id": "f349d5f9",
   "metadata": {},
   "outputs": [
    {
     "data": {
      "text/plain": [
       "{1: {'mean': 0.496, 'low_bound': 0.429, 'high_bound': 0.563},\n",
       " 2: {'mean': 0.498, 'low_bound': 0.452, 'high_bound': 0.544},\n",
       " 3: {'mean': 0.499, 'low_bound': 0.461, 'high_bound': 0.536},\n",
       " 4: {'mean': 0.499, 'low_bound': 0.466, 'high_bound': 0.531},\n",
       " 5: {'mean': 0.499, 'low_bound': 0.47, 'high_bound': 0.528},\n",
       " 6: {'mean': 0.499, 'low_bound': 0.473, 'high_bound': 0.526},\n",
       " 7: {'mean': 0.499, 'low_bound': 0.475, 'high_bound': 0.524}}"
      ]
     },
     "execution_count": 5,
     "metadata": {},
     "output_type": "execute_result"
    }
   ],
   "source": [
    "ranges = {}\n",
    "for j in range(20, 160, 20):\n",
    "    day = range(20, 160, 20).index(j) + 1\n",
    "    days_perc = []\n",
    "    for i in range(10000):\n",
    "        sample = random.sample(games, j)\n",
    "        w = 0\n",
    "        g = 0\n",
    "\n",
    "        for k in sample:\n",
    "            w += k[0]\n",
    "            g += k[1]\n",
    "        days_perc.append(w / g)\n",
    "    ranges[day] = {'mean': np.round(np.mean(days_perc), 3),\n",
    "                  'low_bound': np.round(norm.ppf(.025, loc=np.mean(days_perc), scale=np.std(days_perc)), 3),\n",
    "                  'high_bound': np.round(norm.ppf(.975, loc=np.mean(days_perc), scale=np.std(days_perc)), 3)\n",
    "                  }\n",
    "\n",
    "ranges"
   ]
  },
  {
   "cell_type": "markdown",
   "id": "1e511e70",
   "metadata": {},
   "source": [
    "So far the team we've looked at was only a coin flip chance of winning any particular game. The best teams within the Bronze B07 tournament realm can maintain maybe a winning percentage of 56 percent over a sustained period of time (50+ tournaments). How does expected (median) pack earnings change as a team's winning percentage changes? This next block simulates 10,000 tournaments for teams between a 40 percent and 60 percent winning percentage, with the median number of packs earned at each rate shown in the plot."
   ]
  },
  {
   "cell_type": "code",
   "execution_count": 6,
   "id": "34ce1426",
   "metadata": {},
   "outputs": [
    {
     "data": {
      "image/png": "[encoded data removed]",
      "text/plain": [
       "<Figure size 720x360 with 1 Axes>"
      ]
     },
     "metadata": {
      "needs_background": "light"
     },
     "output_type": "display_data"
    }
   ],
   "source": [
    "medians = [] \n",
    "\n",
    "for k in range(40, 61):\n",
    "    perc = k * .01\n",
    "    results = []\n",
    "    for i in range(10000):\n",
    "        w = 0\n",
    "        tw = 0\n",
    "        l = 0\n",
    "\n",
    "        tournament = []\n",
    "        for i in range(35):\n",
    "            game = random.random()\n",
    "            if game <= perc:\n",
    "                w += 1\n",
    "                tw += 1\n",
    "            else:\n",
    "                l += 1\n",
    "\n",
    "            if w == 4:\n",
    "                tournament.append(str(w) + '-' + str(l))\n",
    "                w = 0\n",
    "                l = 0\n",
    "                if len(tournament) == 5:\n",
    "                    break\n",
    "            elif l == 4:\n",
    "                tournament.append(str(w) + '-' + str(l))\n",
    "                break\n",
    "\n",
    "        if tw == 20:\n",
    "            results.append(6)\n",
    "        else:\n",
    "            results.append(len(tournament))\n",
    "    \n",
    "    packs = []\n",
    "    for j in range(10000):\n",
    "        sample = random.sample(results, 20)\n",
    "\n",
    "        unique, counts = np.unique(sample, return_counts=True)\n",
    "        day = dict(zip(unique, counts))\n",
    "        packs.append(day.get(4, 0) * 3 + day.get(5, 0) * 5 + day.get(6, 0) * 10)\n",
    "    \n",
    "    medians.append(np.median(packs))\n",
    "    \n",
    "plt.scatter(range(40,61), medians)\n",
    "plt.show()"
   ]
  },
  {
   "cell_type": "markdown",
   "id": "3e4ee262",
   "metadata": {},
   "source": [
    "So remember this when you're on the Perfect Team Tilt after being bounced from your 15th tournament of the without hitting packs. It could just be the RNG gods raining your parade. Tomorrow very well could be a day you pull in 40 packs. "
   ]
  }
 ],
 "metadata": {
  "kernelspec": {
   "display_name": "Python 3",
   "language": "python",
   "name": "python3"
  },
  "language_info": {
   "codemirror_mode": {
    "name": "ipython",
    "version": 3
   },
   "file_extension": ".py",
   "mimetype": "text/x-python",
   "name": "python",
   "nbconvert_exporter": "python",
   "pygments_lexer": "ipython3",
   "version": "3.9.5"
  }
 },
 "nbformat": 4,
 "nbformat_minor": 5
}
